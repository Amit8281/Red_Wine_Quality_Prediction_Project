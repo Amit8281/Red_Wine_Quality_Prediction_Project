{
 "cells": [
  {
   "cell_type": "code",
   "execution_count": 2,
   "id": "049fd467",
   "metadata": {},
   "outputs": [
    {
     "name": "stderr",
     "output_type": "stream",
     "text": [
      "D:\\jupyter\\lib\\site-packages\\gradio\\inputs.py:59: UserWarning: Usage of gradio.inputs is deprecated, and will not be supported in the future, please import your component from gradio.components\n",
      "  warnings.warn(\n",
      "D:\\jupyter\\lib\\site-packages\\gradio\\inputs.py:62: UserWarning: `optional` parameter is deprecated, and it has no effect\n",
      "  super().__init__(value=default, label=label, optional=optional)\n"
     ]
    },
    {
     "name": "stdout",
     "output_type": "stream",
     "text": [
      "Running on local URL:  http://127.0.0.1:7860\n",
      "\n",
      "To create a public link, set `share=True` in `launch()`.\n"
     ]
    },
    {
     "data": {
      "text/html": [
       "<div><iframe src=\"http://127.0.0.1:7860/\" width=\"100%\" height=\"500\" allow=\"autoplay; camera; microphone; clipboard-read; clipboard-write;\" frameborder=\"0\" allowfullscreen></iframe></div>"
      ],
      "text/plain": [
       "<IPython.core.display.HTML object>"
      ]
     },
     "metadata": {},
     "output_type": "display_data"
    },
    {
     "data": {
      "text/plain": []
     },
     "execution_count": 2,
     "metadata": {},
     "output_type": "execute_result"
    }
   ],
   "source": [
    "import pickle\n",
    "import pandas as pd\n",
    "import gradio as gr\n",
    "\n",
    "# Load the trained model\n",
    "model = pickle.load(open('Extra_tree_classifier.pkl', 'rb'))\n",
    "\n",
    "def win_quality(fixed_acidity, volatile_acidity, citric_acid, residual_sugar, chlorides, free_sulfur_dioxide, density, sulphates,alcohol):\n",
    "    # Prepare the input data as a DataFrame\n",
    "    data = pd.DataFrame({\n",
    "        'fixed_acidity': [fixed_acidity],\n",
    "        'volatile_acidity': [volatile_acidity],\n",
    "        'citric_acid': [citric_acid],\n",
    "        'residual_sugar': [residual_sugar],\n",
    "        'chlorides': [chlorides],\n",
    "        'free_sulfur_dioxide': [free_sulfur_dioxide],\n",
    "        'density': [density],\n",
    "        'sulphates': [sulphates],\n",
    "        'alcohol': [alcohol]\n",
    "    })\n",
    "\n",
    "    # Perform the prediction\n",
    "    prediction = model.predict(data)[0]\n",
    "    return \"GOOD\" if prediction == 1 else \"Not GOOD\"\n",
    "\n",
    "# Create the input components\n",
    "input_components = [\n",
    "    gr.inputs.Number(label=\"fixed_acidity\"),\n",
    "    gr.inputs.Number(label=\"volatile_acidity\"),\n",
    "    gr.inputs.Number(label=\"citric_acid\"),\n",
    "    gr.inputs.Number(label=\"residual_sugar\"),\n",
    "    gr.inputs.Number(label=\"chlorides\"),\n",
    "    gr.inputs.Number(label=\"free_sulfur_dioxide\"),\n",
    "    gr.inputs.Number(label=\"density\"),\n",
    "    gr.inputs.Number(label=\"sulphates\"),\n",
    "    gr.inputs.Number(label=\"alcohol\")\n",
    "]\n",
    "\n",
    "# Create the interface\n",
    "interface = gr.Interface(\n",
    "    fn=win_quality,\n",
    "    inputs=input_components,\n",
    "    outputs=\"text\",\n",
    "    title=\"WINE QUALITY\",\n",
    "    description=\"WINE QUALITY DETECTION.\"\n",
    ")\n",
    "\n",
    "# Launch the interface\n",
    "interface.launch()\n"
   ]
  },
  {
   "cell_type": "code",
   "execution_count": null,
   "id": "fc726a3b",
   "metadata": {},
   "outputs": [],
   "source": []
  }
 ],
 "metadata": {
  "kernelspec": {
   "display_name": "Python 3 (ipykernel)",
   "language": "python",
   "name": "python3"
  },
  "language_info": {
   "codemirror_mode": {
    "name": "ipython",
    "version": 3
   },
   "file_extension": ".py",
   "mimetype": "text/x-python",
   "name": "python",
   "nbconvert_exporter": "python",
   "pygments_lexer": "ipython3",
   "version": "3.9.12"
  }
 },
 "nbformat": 4,
 "nbformat_minor": 5
}
